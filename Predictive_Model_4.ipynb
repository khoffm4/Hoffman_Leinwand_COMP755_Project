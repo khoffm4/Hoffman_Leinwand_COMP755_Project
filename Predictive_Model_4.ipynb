{
 "cells": [
  {
   "cell_type": "code",
   "execution_count": 26,
   "metadata": {},
   "outputs": [],
   "source": [
    "#LSTM\n",
    "\n",
    "import numpy \n",
    "import matplotlib.pyplot as plt\n",
    "import pandas\n",
    "import math\n",
    "from keras.models import Sequential\n",
    "from keras.layers import Dense\n",
    "from keras.layers import LSTM\n",
    "from sklearn.preprocessing import MinMaxScaler\n",
    "from sklearn.metrics import mean_squared_error\n",
    "\n",
    "# fix random seed for reproducibility\n",
    "numpy.random.seed(7)\n",
    "\n"
   ]
  },
  {
   "cell_type": "code",
   "execution_count": 27,
   "metadata": {},
   "outputs": [],
   "source": [
    "PULoc = 4"
   ]
  },
  {
   "cell_type": "code",
   "execution_count": 28,
   "metadata": {},
   "outputs": [],
   "source": [
    "dataframe = pandas.read_csv('Demand_Data3_Train_CV_2017.csv', usecols=[4,3], engine='python', skipfooter=3)\n",
    "dataframe = dataframe[dataframe['PULocationID'] == 4]\n",
    "dataframe = dataframe['passenger_count']\n",
    "dataset = dataframe.values\n",
    "dataset = dataset.astype('float32')\n",
    "dataset = dataset[0:24*100]\n",
    "dataset = np.reshape(dataset, (len(dataset),1))"
   ]
  },
  {
   "cell_type": "code",
   "execution_count": 29,
   "metadata": {},
   "outputs": [],
   "source": [
    "Test = pandas.read_csv('Demand_Data3_Test_Predictions_2017.csv', usecols=[4,3], engine='python', skipfooter=3)\n",
    "Test = Test[Test['PULocationID'] == 4]\n",
    "Test = Test['passenger_count']\n",
    "Test_Values = Test.values\n",
    "Test_Values = Test_Values.astype('float32')\n",
    "Test_Values = Test_Values[0:24*100]\n",
    "Test_Values = np.reshape(Test_Values, (len(Test_Values),1))"
   ]
  },
  {
   "cell_type": "code",
   "execution_count": 30,
   "metadata": {},
   "outputs": [],
   "source": [
    "#Preprocessing Training\n",
    "scaler = MinMaxScaler(feature_range=(0, 1))\n",
    "dataset = scaler.fit_transform(dataset)\n",
    "\n",
    "#Preprocessing Testing\n",
    "scaler = MinMaxScaler(feature_range=(0, 1))\n",
    "dataset = scaler.fit_transform(Test_Values)\n",
    "\n"
   ]
  },
  {
   "cell_type": "code",
   "execution_count": 37,
   "metadata": {},
   "outputs": [],
   "source": [
    "#Training/Testing Data (Train on Jan-Oct, Ttest on Nov-Dec)\n",
    "train_size = int(len(dataset) * 0.67)\n",
    "test_size = len(dataset) - train_size\n",
    "train = dataset[0:train_size,:]\n",
    "train, test = dataset[0:train_size,:], dataset[train_size:len(dataset),:]\n",
    "#train_size = len(dataset)\n",
    "#test_size = len(Test_Values)\n",
    "#train = dataset\n",
    "#test = Test_Values"
   ]
  },
  {
   "cell_type": "code",
   "execution_count": 38,
   "metadata": {},
   "outputs": [],
   "source": [
    "def create_dataset(dataset, look_back=1):\n",
    "\tdataX, dataY = [], []\n",
    "\tfor i in range(len(dataset)-look_back-1):\n",
    "\t\ta = dataset[i:(i+look_back), 0]\n",
    "\t\tdataX.append(a)\n",
    "\t\tdataY.append(dataset[i + look_back, 0])\n",
    "\treturn numpy.array(dataX), numpy.array(dataY)\n",
    "\n",
    "# reshape into X=t and Y=t+1\n",
    "look_back = 1\n",
    "trainX, trainY = create_dataset(train, look_back)\n",
    "testX, testY = create_dataset(test, look_back)\n",
    "\n",
    "# reshape input to be [samples, time steps, features]\n",
    "trainX = numpy.reshape(trainX, (trainX.shape[0], 1, trainX.shape[1]))\n",
    "testX = numpy.reshape(testX, (testX.shape[0], 1, testX.shape[1]))"
   ]
  },
  {
   "cell_type": "code",
   "execution_count": 39,
   "metadata": {},
   "outputs": [
    {
     "name": "stdout",
     "output_type": "stream",
     "text": [
      "Epoch 1/30\n",
      " - 1s - loss: 0.0113\n",
      "Epoch 2/30\n",
      " - 0s - loss: 0.0076\n",
      "Epoch 3/30\n",
      " - 0s - loss: 0.0070\n",
      "Epoch 4/30\n",
      " - 0s - loss: 0.0064\n",
      "Epoch 5/30\n",
      " - 0s - loss: 0.0057\n",
      "Epoch 6/30\n",
      " - 0s - loss: 0.0050\n",
      "Epoch 7/30\n",
      " - 0s - loss: 0.0045\n",
      "Epoch 8/30\n",
      " - 0s - loss: 0.0039\n",
      "Epoch 9/30\n",
      " - 0s - loss: 0.0034\n",
      "Epoch 10/30\n",
      " - 0s - loss: 0.0031\n",
      "Epoch 11/30\n",
      " - 0s - loss: 0.0028\n",
      "Epoch 12/30\n",
      " - 0s - loss: 0.0027\n",
      "Epoch 13/30\n",
      " - 0s - loss: 0.0026\n",
      "Epoch 14/30\n",
      " - 0s - loss: 0.0026\n",
      "Epoch 15/30\n",
      " - 0s - loss: 0.0026\n",
      "Epoch 16/30\n",
      " - 0s - loss: 0.0026\n",
      "Epoch 17/30\n",
      " - 0s - loss: 0.0025\n",
      "Epoch 18/30\n",
      " - 0s - loss: 0.0025\n",
      "Epoch 19/30\n",
      " - 0s - loss: 0.0025\n",
      "Epoch 20/30\n",
      " - 0s - loss: 0.0025\n",
      "Epoch 21/30\n",
      " - 0s - loss: 0.0025\n",
      "Epoch 22/30\n",
      " - 0s - loss: 0.0025\n",
      "Epoch 23/30\n",
      " - 0s - loss: 0.0025\n",
      "Epoch 24/30\n",
      " - 0s - loss: 0.0025\n",
      "Epoch 25/30\n",
      " - 0s - loss: 0.0025\n",
      "Epoch 26/30\n",
      " - 0s - loss: 0.0025\n",
      "Epoch 27/30\n",
      " - 0s - loss: 0.0025\n",
      "Epoch 28/30\n",
      " - 0s - loss: 0.0025\n",
      "Epoch 29/30\n",
      " - 0s - loss: 0.0025\n",
      "Epoch 30/30\n",
      " - 0s - loss: 0.0025\n"
     ]
    },
    {
     "data": {
      "text/plain": [
       "<keras.callbacks.History at 0x129052358>"
      ]
     },
     "execution_count": 39,
     "metadata": {},
     "output_type": "execute_result"
    }
   ],
   "source": [
    "\n",
    "# create and fit the LSTM network\n",
    "model = Sequential()\n",
    "#model.add(LSTM(1, input_shape=(1, look_back)))\n",
    "model.add(LSTM(4))\n",
    "model.add(Dense(1))\n",
    "model.compile(loss='mean_squared_error', optimizer='adam')\n",
    "model.fit(trainX, trainY, epochs=30, batch_size=10, verbose=2)\n",
    "\n"
   ]
  },
  {
   "cell_type": "code",
   "execution_count": 40,
   "metadata": {},
   "outputs": [
    {
     "name": "stdout",
     "output_type": "stream",
     "text": [
      "Train Score: 14.75 RMSE\n",
      "Test Score: 11.28 RMSE\n"
     ]
    }
   ],
   "source": [
    "\n",
    "# make predictions\n",
    "trainPredict = model.predict(trainX)\n",
    "testPredict = model.predict(testX)\n",
    " #invert predictions\n",
    "trainPredict = scaler.inverse_transform(trainPredict)\n",
    "trainY = scaler.inverse_transform([trainY])\n",
    "testPredict = scaler.inverse_transform(testPredict)\n",
    "testY = scaler.inverse_transform([testY])\n",
    "# calculate root mean squared error\n",
    "trainScore = math.sqrt(mean_squared_error(trainY[0], trainPredict[:,0]))\n",
    "print('Train Score: %.2f RMSE' % (trainScore))\n",
    "testScore = math.sqrt(mean_squared_error(testY[0], testPredict[:,0]))\n",
    "print('Test Score: %.2f RMSE' % (testScore))\n",
    "\n",
    "\n"
   ]
  },
  {
   "cell_type": "code",
   "execution_count": 41,
   "metadata": {},
   "outputs": [
    {
     "data": {
      "text/plain": [
       "[<matplotlib.lines.Line2D at 0x129ce6cc0>]"
      ]
     },
     "execution_count": 41,
     "metadata": {},
     "output_type": "execute_result"
    },
    {
     "data": {
      "image/png": "[encoded data removed]",
      "text/plain": [
       "<Figure size 432x288 with 1 Axes>"
      ]
     },
     "metadata": {
      "needs_background": "light"
     },
     "output_type": "display_data"
    }
   ],
   "source": [
    "# shift train predictions for plotting\n",
    "trainPredictPlot = numpy.empty_like(dataset)\n",
    "trainPredictPlot[:, :] = numpy.nan\n",
    "trainPredictPlot[look_back:len(trainPredict)+look_back, :] = trainPredict\n",
    "# shift test predictions for plotting\n",
    "testPredictPlot = numpy.empty_like(dataset)\n",
    "testPredictPlot[:, :] = numpy.nan\n",
    "testPredictPlot[len(trainPredict)+(look_back*2)+1:len(dataset)-1, :] = testPredict\n",
    "# plot baseline and predictions\n",
    "\n",
    "plt.plot(scaler.inverse_transform(dataset))\n",
    "plt.plot(trainPredictPlot)\n",
    "plt.plot(testPredictPlot)"
   ]
  },
  {
   "cell_type": "code",
   "execution_count": null,
   "metadata": {},
   "outputs": [],
   "source": []
  }
 ],
 "metadata": {
  "kernelspec": {
   "display_name": "Python (py3)\n",
   "language": "python",
   "name": "myenv"
  },
  "language_info": {
   "codemirror_mode": {
    "name": "ipython",
    "version": 3
   },
   "file_extension": ".py",
   "mimetype": "text/x-python",
   "name": "python",
   "nbconvert_exporter": "python",
   "pygments_lexer": "ipython3",
   "version": "3.6.7"
  }
 },
 "nbformat": 4,
 "nbformat_minor": 2
}
