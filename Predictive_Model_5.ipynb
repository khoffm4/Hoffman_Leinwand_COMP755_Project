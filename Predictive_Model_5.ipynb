{
 "cells": [
  {
   "cell_type": "code",
   "execution_count": 228,
   "metadata": {},
   "outputs": [],
   "source": [
    "#LSTM on Raw Data\n",
    "\n",
    "import numpy \n",
    "import matplotlib.pyplot as plt\n",
    "import pandas\n",
    "import math\n",
    "from keras.models import Sequential\n",
    "from keras.layers import Dense\n",
    "from keras.layers import LSTM\n",
    "from sklearn.preprocessing import MinMaxScaler\n",
    "from sklearn.metrics import mean_squared_error\n",
    "\n",
    "# fix random seed for reproducibility\n",
    "numpy.random.seed(7)\n",
    "\n"
   ]
  },
  {
   "cell_type": "code",
   "execution_count": 182,
   "metadata": {},
   "outputs": [],
   "source": [
    "PULoc = 4"
   ]
  },
  {
   "cell_type": "code",
   "execution_count": 183,
   "metadata": {},
   "outputs": [],
   "source": [
    "dataframe = pandas.read_csv('Demand_Data3_2017_Total.csv', usecols=[4,3])\n",
    "dataframe = dataframe[dataframe['PULocationID'] == PULoc]\n",
    "dataframe = dataframe['passenger_count']\n",
    "dataset = dataframe.values\n",
    "dataset = dataset.astype('float32')\n",
    "dataset = numpy.reshape(dataset, (len(dataset),1))"
   ]
  },
  {
   "cell_type": "code",
   "execution_count": null,
   "metadata": {},
   "outputs": [],
   "source": []
  },
  {
   "cell_type": "code",
   "execution_count": 184,
   "metadata": {},
   "outputs": [],
   "source": [
    "#Test = pandas.read_csv('Demand_Data3_Test_Predictions_2017.csv', usecols=[4,3], engine='python', skipfooter=3)\n",
    "#Test = Test[Test['PULocationID'] == 4]\n",
    "#Test = Test['passenger_count']\n",
    "#Test_Values = Test.values\n",
    "#Test_Values = Test_Values.astype('float32')\n",
    "#Test_Values = Test_Values[0:24*100]\n",
    "#Test_Values = np.reshape(Test_Values, (len(Test_Values),1))"
   ]
  },
  {
   "cell_type": "code",
   "execution_count": 185,
   "metadata": {},
   "outputs": [],
   "source": [
    "#Preprocessing Training\n",
    "scaler = MinMaxScaler(feature_range=(0, 1))\n",
    "dataset = scaler.fit_transform(dataset)\n",
    "\n",
    "\n",
    "\n",
    "\n",
    "\n"
   ]
  },
  {
   "cell_type": "code",
   "execution_count": 186,
   "metadata": {},
   "outputs": [],
   "source": [
    "#Training/Testing Data (Train on Jan-Oct, Ttest on Nov-Dec) 370472 is index\n",
    "train_size = int(len(dataset) * 0.8333)\n",
    "test_size = len(dataset) - train_size\n",
    "train = dataset[0:train_size,:]\n",
    "train, test = dataset[0:train_size,:], dataset[train_size:len(dataset),:]\n",
    "#train_size = len(dataset)\n",
    "#test_size = len(Test_Values)\n",
    "#train = dataset\n",
    "#test = Test_Values"
   ]
  },
  {
   "cell_type": "code",
   "execution_count": 187,
   "metadata": {},
   "outputs": [],
   "source": [
    "def create_dataset(dataset, look_back=1):\n",
    "\tdataX, dataY = [], []\n",
    "\tfor i in range(len(dataset)-look_back-1):\n",
    "\t\ta = dataset[i:(i+look_back), 0]\n",
    "\t\tdataX.append(a)\n",
    "\t\tdataY.append(dataset[i + look_back, 0])\n",
    "\treturn numpy.array(dataX), numpy.array(dataY)\n",
    "\n",
    "# reshape into X=t and Y=t+1\n",
    "look_back = 1\n",
    "trainX, trainY = create_dataset(train, look_back)\n",
    "testX, testY = create_dataset(test, look_back)\n",
    "\n",
    "# reshape input to be [samples, time steps, features]\n",
    "trainX = numpy.reshape(trainX, (trainX.shape[0], 1, trainX.shape[1]))\n",
    "testX = numpy.reshape(testX, (testX.shape[0], 1, testX.shape[1]))"
   ]
  },
  {
   "cell_type": "code",
   "execution_count": 188,
   "metadata": {},
   "outputs": [
    {
     "name": "stdout",
     "output_type": "stream",
     "text": [
      "Epoch 1/10\n",
      " - 3s - loss: 0.0268\n",
      "Epoch 2/10\n",
      " - 1s - loss: 0.0101\n",
      "Epoch 3/10\n",
      " - 1s - loss: 0.0093\n",
      "Epoch 4/10\n",
      " - 1s - loss: 0.0093\n",
      "Epoch 5/10\n",
      " - 1s - loss: 0.0093\n",
      "Epoch 6/10\n",
      " - 1s - loss: 0.0093\n",
      "Epoch 7/10\n",
      " - 1s - loss: 0.0093\n",
      "Epoch 8/10\n",
      " - 1s - loss: 0.0093\n",
      "Epoch 9/10\n",
      " - 1s - loss: 0.0093\n",
      "Epoch 10/10\n",
      " - 1s - loss: 0.0093\n"
     ]
    },
    {
     "data": {
      "text/plain": [
       "<keras.callbacks.History at 0x12a977b00>"
      ]
     },
     "execution_count": 188,
     "metadata": {},
     "output_type": "execute_result"
    }
   ],
   "source": [
    "\n",
    "# create and fit the LSTM network\n",
    "model = Sequential()\n",
    "#model.add(LSTM(1, input_shape=(1, look_back)))\n",
    "model.add(LSTM(4))\n",
    "model.add(Dense(1))\n",
    "model.compile(loss='mean_squared_error', optimizer='adam')\n",
    "model.fit(trainX, trainY, epochs=10, batch_size=10, verbose=2)\n",
    "\n"
   ]
  },
  {
   "cell_type": "code",
   "execution_count": 189,
   "metadata": {},
   "outputs": [
    {
     "name": "stdout",
     "output_type": "stream",
     "text": [
      "Train Score: 104.17 RMSE\n",
      "Test Score: 103.87 RMSE\n"
     ]
    }
   ],
   "source": [
    "\n",
    "# make predictions\n",
    "trainPredict = model.predict(trainX)\n",
    "testPredict = model.predict(testX)\n",
    " #invert predictions\n",
    "trainPredict = scaler.inverse_transform(trainPredict)\n",
    "trainY = scaler.inverse_transform([trainY])\n",
    "testPredict = scaler.inverse_transform(testPredict)\n",
    "testY = scaler.inverse_transform([testY])\n",
    "# calculate root mean squared error\n",
    "trainScore = math.sqrt(mean_squared_error(trainY[0], trainPredict[:,0]))\n",
    "print('Train Score: %.2f RMSE' % (trainScore))\n",
    "testScore = math.sqrt(mean_squared_error(testY[0], testPredict[:,0]))\n",
    "print('Test Score: %.2f RMSE' % (testScore))\n",
    "\n"
   ]
  },
  {
   "cell_type": "code",
   "execution_count": 190,
   "metadata": {},
   "outputs": [
    {
     "name": "stdout",
     "output_type": "stream",
     "text": [
      "[[247.52072]\n",
      " [224.72218]\n",
      " [251.48834]\n",
      " ...\n",
      " [564.7017 ]\n",
      " [522.2195 ]\n",
      " [531.41516]]\n",
      "[[649.7281 ]\n",
      " [692.77576]\n",
      " [853.5415 ]\n",
      " ...\n",
      " [492.0282 ]\n",
      " [481.93903]\n",
      " [420.46817]]\n"
     ]
    }
   ],
   "source": [
    "print(testPredict)\n",
    "print(trainPredict)"
   ]
  },
  {
   "cell_type": "code",
   "execution_count": 191,
   "metadata": {},
   "outputs": [
    {
     "data": {
      "text/plain": [
       "[<matplotlib.lines.Line2D at 0x12fc48a90>]"
      ]
     },
     "execution_count": 191,
     "metadata": {},
     "output_type": "execute_result"
    },
    {
     "data": {
      "image/png": "[encoded data removed]",
      "text/plain": [
       "<Figure size 432x288 with 1 Axes>"
      ]
     },
     "metadata": {
      "needs_background": "light"
     },
     "output_type": "display_data"
    }
   ],
   "source": [
    "# shift train predictions for plotting\n",
    "trainPredictPlot = numpy.empty_like(dataset)\n",
    "trainPredictPlot[:, :] = numpy.nan\n",
    "trainPredictPlot[look_back:len(trainPredict)+look_back, :] = trainPredict\n",
    "# shift test predictions for plotting\n",
    "testPredictPlot = numpy.empty_like(dataset)\n",
    "testPredictPlot[:, :] = numpy.nan\n",
    "testPredictPlot[len(trainPredict)+(look_back*2)+1:len(dataset)-1, :] = testPredict\n",
    "# plot baseline and predictions\n",
    "plt.plot(scaler.inverse_transform(dataset))\n",
    "plt.plot(trainPredictPlot)\n",
    "plt.plot(testPredictPlot)"
   ]
  },
  {
   "cell_type": "code",
   "execution_count": null,
   "metadata": {},
   "outputs": [],
   "source": []
  },
  {
   "cell_type": "code",
   "execution_count": 192,
   "metadata": {},
   "outputs": [],
   "source": [
    "#LSTM on Residuals"
   ]
  },
  {
   "cell_type": "code",
   "execution_count": 210,
   "metadata": {},
   "outputs": [],
   "source": []
  },
  {
   "cell_type": "code",
   "execution_count": 211,
   "metadata": {},
   "outputs": [
    {
     "name": "stdout",
     "output_type": "stream",
     "text": [
      "        PULocationID  passenger_count  OLS_fitted_value   Residuals\n",
      "0                  4              135        220.071280  -85.071280\n",
      "1                 12                3        224.028070 -221.028070\n",
      "2                 13              104        224.522669 -120.522669\n",
      "3                 24               94        229.963255 -135.963255\n",
      "4                 43              401        239.360631  161.639369\n",
      "5                 45               54        240.349829 -186.349829\n",
      "6                 48              697        241.833625  455.166375\n",
      "7                 50              315        242.822822   72.177178\n",
      "8                 68              664        251.725600  412.274400\n",
      "9                 79             1076        257.166186  818.833814\n",
      "10                87              150        261.122976 -111.122976\n",
      "11                88               70        261.617574 -191.617574\n",
      "12                90              470        262.606772  207.393228\n",
      "13               100              100        267.552759 -167.552759\n",
      "14               107              628        271.014951  356.985049\n",
      "15               113              318        273.982543   44.017457\n",
      "16               114              406        274.477142  131.522858\n",
      "17               125               99        279.917728 -180.917728\n",
      "18               137              305        285.852913   19.147087\n",
      "19               140              230        287.336709  -57.336709\n",
      "20               141              525        287.831308  237.168692\n",
      "21               142              739        288.325907  450.674093\n",
      "22               143              234        288.820505  -54.820505\n",
      "23               144              270        289.315104  -19.315104\n",
      "24               148              594        291.293499  302.706501\n",
      "25               151              238        292.777295  -54.777295\n",
      "26               158              297        296.239486    0.760514\n",
      "27               161              652        297.723283  354.276717\n",
      "28               162              416        298.217881  117.782119\n",
      "29               163              222        298.712480  -76.712480\n",
      "...              ...              ...               ...         ...\n",
      "444720           142              387        134.560261  252.439739\n",
      "444721           143               84        135.054860  -51.054860\n",
      "444722           144              130        135.549458   -5.549458\n",
      "444723           148              197        137.527853   59.472147\n",
      "444724           151              123        139.011650  -16.011650\n",
      "444725           158              161        142.473841   18.526159\n",
      "444726           161              249        143.957637  105.042363\n",
      "444727           162              273        144.452236  128.547764\n",
      "444728           163              127        144.946835  -17.946835\n",
      "444729           164              205        145.441433   59.558567\n",
      "444730           170              211        148.409026   62.590974\n",
      "444731           186              212        156.322606   55.677394\n",
      "444732           209               25        167.698377 -142.698377\n",
      "444733           211               86        168.687574  -82.687574\n",
      "444734           224               23        175.117358 -152.117358\n",
      "444735           229              202        177.590352   24.409648\n",
      "444736           230              119        178.084950  -59.084950\n",
      "444737           231              151        178.579549  -27.579549\n",
      "444738           232               32        179.074148 -147.074148\n",
      "444739           233               92        179.568747  -87.568747\n",
      "444740           234              273        180.063345   92.936655\n",
      "444741           236              286        181.052543  104.947457\n",
      "444742           237              247        181.547142   65.452858\n",
      "444743           238              299        182.041740  116.958260\n",
      "444744           239              290        182.536339  107.463661\n",
      "444745           246               90        185.998530  -95.998530\n",
      "444746           249              238        187.482327   50.517673\n",
      "444747           261               48        193.417511 -145.417511\n",
      "444748           262              103        193.912110  -90.912110\n",
      "444749           263              256        194.406709   61.593291\n",
      "\n",
      "[444750 rows x 4 columns]\n"
     ]
    }
   ],
   "source": [
    "dataframe = pandas.read_csv('Demand_Data3_2017_Total.csv', usecols=[4,3,15])\n",
    "dataframe['Residuals'] = dataframe['passenger_count'] - dataframe['OLS_fitted_value']\n",
    "print(dataframe)"
   ]
  },
  {
   "cell_type": "code",
   "execution_count": 212,
   "metadata": {},
   "outputs": [],
   "source": [
    "dataframe = dataframe[dataframe['PULocationID'] == PULoc]\n",
    "dataframe = dataframe['Residuals']\n",
    "dataset = dataframe.values\n",
    "dataset = dataset.astype('float32')\n",
    "#dataset = dataset[0:24*100]\n",
    "dataset = numpy.reshape(dataset, (len(dataset),1))"
   ]
  },
  {
   "cell_type": "code",
   "execution_count": 213,
   "metadata": {},
   "outputs": [],
   "source": [
    "scaler = MinMaxScaler(feature_range=(0, 1))\n",
    "dataset = scaler.fit_transform(dataset)\n",
    "dataset2 = dataset"
   ]
  },
  {
   "cell_type": "code",
   "execution_count": 214,
   "metadata": {},
   "outputs": [
    {
     "name": "stdout",
     "output_type": "stream",
     "text": [
      "8759\n",
      "7298\n"
     ]
    }
   ],
   "source": [
    "#Training/Testing Data (Train on Jan-Oct, Ttest on Nov-Dec) 370472 is index\n",
    "print(len(dataset))\n",
    "train_size = int(len(dataset) * 0.8333)\n",
    "test_size = len(dataset) - train_size\n",
    "train = dataset[0:train_size,:]\n",
    "print(len(train))\n",
    "train, test = dataset[0:train_size,:], dataset[train_size:len(dataset),:]\n",
    "#train_size = len(dataset)\n",
    "#test_size = len(Test_Values)\n",
    "#train = dataset\n",
    "#test = Test_Values"
   ]
  },
  {
   "cell_type": "code",
   "execution_count": 215,
   "metadata": {},
   "outputs": [
    {
     "name": "stdout",
     "output_type": "stream",
     "text": [
      "7298\n",
      "[[0.609821  ]\n",
      " [0.68862927]\n",
      " [0.95467937]\n",
      " ...\n",
      " [0.41143018]\n",
      " [0.49045014]\n",
      " [0.50288725]]\n",
      "[0.68862927 0.95467937 0.9651578  ... 0.49045014 0.50288725 0.45222116]\n"
     ]
    }
   ],
   "source": [
    "def create_dataset(dataset, look_back=1):\n",
    "\tdataX, dataY = [], []\n",
    "\tfor i in range(len(dataset)-look_back-1):\n",
    "\t\ta = dataset[i:(i+look_back), 0]\n",
    "\t\tdataX.append(a)\n",
    "\t\tdataY.append(dataset[i + look_back, 0])\n",
    "\treturn numpy.array(dataX), numpy.array(dataY)\n",
    "\n",
    "# reshape into X=t and Y=t+1\n",
    "look_back = 1\n",
    "trainX, trainY = create_dataset(train, look_back)\n",
    "testX, testY = create_dataset(test, look_back)\n",
    "\n",
    "# reshape input to be [samples, time steps, features]\n",
    "trainX = numpy.reshape(trainX, (trainX.shape[0], 1, trainX.shape[1]))\n",
    "testX = numpy.reshape(testX, (testX.shape[0], 1, testX.shape[1]))\n",
    "\n"
   ]
  },
  {
   "cell_type": "code",
   "execution_count": null,
   "metadata": {},
   "outputs": [],
   "source": []
  },
  {
   "cell_type": "code",
   "execution_count": 216,
   "metadata": {},
   "outputs": [
    {
     "name": "stdout",
     "output_type": "stream",
     "text": [
      "Epoch 1/10\n",
      " - 3s - loss: 0.0293\n",
      "Epoch 2/10\n",
      " - 1s - loss: 0.0104\n",
      "Epoch 3/10\n",
      " - 1s - loss: 0.0081\n",
      "Epoch 4/10\n",
      " - 1s - loss: 0.0075\n",
      "Epoch 5/10\n",
      " - 1s - loss: 0.0074\n",
      "Epoch 6/10\n",
      " - 1s - loss: 0.0074\n",
      "Epoch 7/10\n",
      " - 1s - loss: 0.0074\n",
      "Epoch 8/10\n",
      " - 1s - loss: 0.0074\n",
      "Epoch 9/10\n",
      " - 1s - loss: 0.0074\n",
      "Epoch 10/10\n",
      " - 1s - loss: 0.0074\n"
     ]
    },
    {
     "data": {
      "text/plain": [
       "<keras.callbacks.History at 0x130cadd30>"
      ]
     },
     "execution_count": 216,
     "metadata": {},
     "output_type": "execute_result"
    }
   ],
   "source": [
    "\n",
    "# create and fit the LSTM network\n",
    "model = Sequential()\n",
    "#model.add(LSTM(1, input_shape=(1, look_back)))\n",
    "model.add(LSTM(4))\n",
    "model.add(Dense(1))\n",
    "model.compile(loss='mean_squared_error', optimizer='adam')\n",
    "model.fit(trainX, trainY, epochs=10, batch_size=10, verbose=2)\n",
    "\n",
    "\n"
   ]
  },
  {
   "cell_type": "code",
   "execution_count": 217,
   "metadata": {},
   "outputs": [
    {
     "name": "stdout",
     "output_type": "stream",
     "text": [
      "Train Score: 81.37 RMSE\n",
      "Test Score: 83.27 RMSE\n"
     ]
    }
   ],
   "source": [
    "\n",
    "# make predictions\n",
    "trainPredict = model.predict(trainX)\n",
    "testPredict = model.predict(testX)\n",
    " #invert predictions\n",
    "trainPredict = scaler.inverse_transform(trainPredict)\n",
    "trainY = scaler.inverse_transform([trainY])\n",
    "testPredict = scaler.inverse_transform(testPredict)\n",
    "testY = scaler.inverse_transform([testY])\n",
    "# calculate root mean squared error\n",
    "trainScore = math.sqrt(mean_squared_error(trainY[0], trainPredict[:,0]))\n",
    "print('Train Score: %.2f RMSE' % (trainScore))\n",
    "testScore = math.sqrt(mean_squared_error(testY[0], testPredict[:,0]))\n",
    "print('Test Score: %.2f RMSE' % (testScore))\n",
    "\n",
    "\n"
   ]
  },
  {
   "cell_type": "code",
   "execution_count": 218,
   "metadata": {},
   "outputs": [
    {
     "name": "stdout",
     "output_type": "stream",
     "text": [
      "[[[0.609821  ]]\n",
      "\n",
      " [[0.68862927]]\n",
      "\n",
      " [[0.95467937]]\n",
      "\n",
      " ...\n",
      "\n",
      " [[0.41143018]]\n",
      "\n",
      " [[0.49045014]]\n",
      "\n",
      " [[0.50288725]]]\n"
     ]
    }
   ],
   "source": []
  },
  {
   "cell_type": "code",
   "execution_count": 219,
   "metadata": {},
   "outputs": [
    {
     "data": {
      "text/plain": [
       "[<matplotlib.lines.Line2D at 0x132139278>]"
      ]
     },
     "execution_count": 219,
     "metadata": {},
     "output_type": "execute_result"
    },
    {
     "data": {
      "image/png": "[encoded data removed]",
      "text/plain": [
       "<Figure size 432x288 with 1 Axes>"
      ]
     },
     "metadata": {
      "needs_background": "light"
     },
     "output_type": "display_data"
    }
   ],
   "source": [
    "# shift train predictions for plotting\n",
    "trainPredictPlot = numpy.empty_like(dataset)\n",
    "trainPredictPlot[:, :] = numpy.nan\n",
    "trainPredictPlot[look_back:len(trainPredict)+look_back, :] = trainPredict\n",
    "# shift test predictions for plotting\n",
    "testPredictPlot = numpy.empty_like(dataset)\n",
    "testPredictPlot[:, :] = numpy.nan\n",
    "testPredictPlot[len(trainPredict)+(look_back*2)+1:len(dataset)-1, :] = testPredict\n",
    "# plot baseline and predictions\n",
    "plt.plot(scaler.inverse_transform(dataset))\n",
    "plt.plot(trainPredictPlot)\n",
    "plt.plot(testPredictPlot)"
   ]
  },
  {
   "cell_type": "code",
   "execution_count": 220,
   "metadata": {},
   "outputs": [],
   "source": [
    "#Undo the Residuals"
   ]
  },
  {
   "cell_type": "code",
   "execution_count": 221,
   "metadata": {},
   "outputs": [
    {
     "name": "stdout",
     "output_type": "stream",
     "text": [
      "7296\n",
      "1459\n"
     ]
    }
   ],
   "source": [
    "print(len(trainPredict))\n",
    "print(len(testPredict))"
   ]
  },
  {
   "cell_type": "code",
   "execution_count": 222,
   "metadata": {},
   "outputs": [
    {
     "name": "stdout",
     "output_type": "stream",
     "text": [
      "[455.1663753  529.9207638  782.2852665  ... 393.5290163  392.891366\n",
      " 352.93202097]\n"
     ]
    }
   ],
   "source": [
    "dataframe = pandas.read_csv('Demand_Data3_2017_Total.csv', usecols=[4,3,15])\n",
    "dataframe['Residuals'] = dataframe['passenger_count'] - dataframe['OLS_fitted_value']\n",
    "dataframe = dataframe[dataframe['PULocationID'] == PULoc]\n",
    "dataframe = dataframe['Residuals']\n",
    "print(dataframe.values)"
   ]
  },
  {
   "cell_type": "code",
   "execution_count": 227,
   "metadata": {},
   "outputs": [
    {
     "data": {
      "text/plain": [
       "[<matplotlib.lines.Line2D at 0x130cad710>]"
      ]
     },
     "execution_count": 227,
     "metadata": {},
     "output_type": "execute_result"
    },
    {
     "data": {
      "image/png": "[encoded data removed]",
      "text/plain": [
       "<Figure size 432x288 with 1 Axes>"
      ]
     },
     "metadata": {
      "needs_background": "light"
     },
     "output_type": "display_data"
    }
   ],
   "source": [
    "\n",
    "Predicted_Residuals = numpy.append(trainPredict,testPredict)\n",
    "original = dataframe.values\n",
    "\n",
    "Predicted = Predicted_Residuals  + original[:-4]\n",
    "plt.plot(Predicted)\n",
    "\n",
    "dataframe = pandas.read_csv('Demand_Data3_2017_Total.csv', usecols=[4,3,15])\n",
    "dataframe = dataframe[dataframe['PULocationID'] == PULoc]\n",
    "dataframe = dataframe['passenger_count']\n",
    "dataset = dataframe.values\n",
    "dataset = dataset.astype('float32')\n",
    "dataset = numpy.reshape(dataset, (len(dataset),1))\n",
    "plt.plot(dataset)"
   ]
  },
  {
   "cell_type": "code",
   "execution_count": 94,
   "metadata": {},
   "outputs": [
    {
     "name": "stdout",
     "output_type": "stream",
     "text": [
      "[405.6424  463.18777 650.94135 ... 188.65822 268.19272 268.34552]\n"
     ]
    }
   ],
   "source": []
  },
  {
   "cell_type": "code",
   "execution_count": null,
   "metadata": {},
   "outputs": [],
   "source": []
  }
 ],
 "metadata": {
  "kernelspec": {
   "display_name": "Python (py3)\n",
   "language": "python",
   "name": "myenv"
  },
  "language_info": {
   "codemirror_mode": {
    "name": "ipython",
    "version": 3
   },
   "file_extension": ".py",
   "mimetype": "text/x-python",
   "name": "python",
   "nbconvert_exporter": "python",
   "pygments_lexer": "ipython3",
   "version": "3.6.7"
  }
 },
 "nbformat": 4,
 "nbformat_minor": 2
}
