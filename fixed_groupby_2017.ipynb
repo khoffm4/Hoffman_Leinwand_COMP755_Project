{
 "cells": [
  {
   "cell_type": "code",
   "execution_count": 2,
   "metadata": {
    "collapsed": true
   },
   "outputs": [],
   "source": [
    "import pandas as pd\n",
    "data = pd.read_csv('yellow_cab_2017.csv.gz',  compression='gzip',\n",
    "                   error_bad_lines=False)"
   ]
  },
  {
   "cell_type": "code",
   "execution_count": null,
   "metadata": {
    "collapsed": true
   },
   "outputs": [],
   "source": [
    "data.columns"
   ]
  },
  {
   "cell_type": "code",
   "execution_count": null,
   "metadata": {
    "collapsed": true
   },
   "outputs": [],
   "source": [
    "first_grouping_2017=data.groupby(['time_block', 'PULocationID', 'DOLocationID'],  as_index=False).agg({'passenger_count': ['count', 'sum'], 'trip_distance': 'mean', 'tip_amount': 'sum', 'tolls_amount': 'sum', 'total_amount': 'sum',   'time_delta':'mean' })\n",
    "\n",
    "first_grouping_2017.to_csv('first_grouping_2017.csv', encoding='utf-8')"
   ]
  },
  {
   "cell_type": "code",
   "execution_count": null,
   "metadata": {
    "collapsed": true
   },
   "outputs": [],
   "source": [
    "demand_data_2017=first_grouping_2017.groupby(['time_block', 'PULocationID'],  as_index=False).agg({list(first_grouping_2017)[3]: 'sum', list(first_grouping_2017)[4]: 'sum', list(first_grouping_2017)[6]: 'sum',  list(first_grouping_2017)[7]: 'sum', list(first_grouping_2017)[8]: 'sum' })\n",
    "\n",
    "demand_data_2017.to_csv('demand_data_2017.csv', encoding='utf-8')"
   ]
  },
  {
   "cell_type": "code",
   "execution_count": null,
   "metadata": {
    "collapsed": true
   },
   "outputs": [],
   "source": [
    "!gzip demand_data_2017.csv"
   ]
  },
  {
   "cell_type": "code",
   "execution_count": null,
   "metadata": {
    "collapsed": true
   },
   "outputs": [],
   "source": []
  },
  {
   "cell_type": "code",
   "execution_count": null,
   "metadata": {
    "collapsed": true
   },
   "outputs": [],
   "source": [
    "data=data[(data['trip_distance'] > 0) & (data['trip_distance'] < 5 ) & (data['time_delta'] > 0 ) & (data['time_delta'] < 1800 ) ]"
   ]
  },
  {
   "cell_type": "code",
   "execution_count": null,
   "metadata": {
    "collapsed": true
   },
   "outputs": [],
   "source": [
    "first_grouping_for_neighbors_2017=data.groupby(['time_block', 'PULocationID', 'DOLocationID'],  as_index=False).agg({'passenger_count': ['count', 'sum'], 'trip_distance': 'mean', 'tip_amount': 'sum', 'tolls_amount': 'sum', 'total_amount': 'sum',   'time_delta':'mean' })\n"
   ]
  },
  {
   "cell_type": "code",
   "execution_count": 3,
   "metadata": {},
   "outputs": [
    {
     "data": {
      "text/html": [
       "<div>\n",
       "<style scoped>\n",
       "    .dataframe tbody tr th:only-of-type {\n",
       "        vertical-align: middle;\n",
       "    }\n",
       "\n",
       "    .dataframe tbody tr th {\n",
       "        vertical-align: top;\n",
       "    }\n",
       "\n",
       "    .dataframe thead th {\n",
       "        text-align: right;\n",
       "    }\n",
       "</style>\n",
       "<table border=\"1\" class=\"dataframe\">\n",
       "  <thead>\n",
       "    <tr style=\"text-align: right;\">\n",
       "      <th></th>\n",
       "      <th>24</th>\n",
       "      <th>151</th>\n",
       "      <th>238</th>\n",
       "      <th>239</th>\n",
       "      <th>143</th>\n",
       "      <th>142</th>\n",
       "      <th>50</th>\n",
       "      <th>48</th>\n",
       "      <th>246</th>\n",
       "      <th>68</th>\n",
       "      <th>...</th>\n",
       "      <th>233</th>\n",
       "      <th>163</th>\n",
       "      <th>229</th>\n",
       "      <th>141</th>\n",
       "      <th>140</th>\n",
       "      <th>237</th>\n",
       "      <th>43</th>\n",
       "      <th>236</th>\n",
       "      <th>263</th>\n",
       "      <th>262</th>\n",
       "    </tr>\n",
       "  </thead>\n",
       "  <tbody>\n",
       "    <tr>\n",
       "      <th>24</th>\n",
       "      <td>0</td>\n",
       "      <td>1</td>\n",
       "      <td>0</td>\n",
       "      <td>0</td>\n",
       "      <td>0</td>\n",
       "      <td>0</td>\n",
       "      <td>0</td>\n",
       "      <td>0</td>\n",
       "      <td>0</td>\n",
       "      <td>0</td>\n",
       "      <td>...</td>\n",
       "      <td>0</td>\n",
       "      <td>0</td>\n",
       "      <td>0</td>\n",
       "      <td>0</td>\n",
       "      <td>0</td>\n",
       "      <td>0</td>\n",
       "      <td>1</td>\n",
       "      <td>0</td>\n",
       "      <td>0</td>\n",
       "      <td>0</td>\n",
       "    </tr>\n",
       "    <tr>\n",
       "      <th>151</th>\n",
       "      <td>1</td>\n",
       "      <td>0</td>\n",
       "      <td>1</td>\n",
       "      <td>0</td>\n",
       "      <td>0</td>\n",
       "      <td>0</td>\n",
       "      <td>0</td>\n",
       "      <td>0</td>\n",
       "      <td>0</td>\n",
       "      <td>0</td>\n",
       "      <td>...</td>\n",
       "      <td>0</td>\n",
       "      <td>0</td>\n",
       "      <td>0</td>\n",
       "      <td>0</td>\n",
       "      <td>0</td>\n",
       "      <td>0</td>\n",
       "      <td>1</td>\n",
       "      <td>0</td>\n",
       "      <td>0</td>\n",
       "      <td>0</td>\n",
       "    </tr>\n",
       "    <tr>\n",
       "      <th>238</th>\n",
       "      <td>0</td>\n",
       "      <td>1</td>\n",
       "      <td>0</td>\n",
       "      <td>1</td>\n",
       "      <td>0</td>\n",
       "      <td>0</td>\n",
       "      <td>0</td>\n",
       "      <td>0</td>\n",
       "      <td>0</td>\n",
       "      <td>0</td>\n",
       "      <td>...</td>\n",
       "      <td>0</td>\n",
       "      <td>0</td>\n",
       "      <td>0</td>\n",
       "      <td>0</td>\n",
       "      <td>0</td>\n",
       "      <td>0</td>\n",
       "      <td>1</td>\n",
       "      <td>0</td>\n",
       "      <td>0</td>\n",
       "      <td>0</td>\n",
       "    </tr>\n",
       "    <tr>\n",
       "      <th>239</th>\n",
       "      <td>0</td>\n",
       "      <td>0</td>\n",
       "      <td>1</td>\n",
       "      <td>0</td>\n",
       "      <td>1</td>\n",
       "      <td>1</td>\n",
       "      <td>0</td>\n",
       "      <td>0</td>\n",
       "      <td>0</td>\n",
       "      <td>0</td>\n",
       "      <td>...</td>\n",
       "      <td>0</td>\n",
       "      <td>0</td>\n",
       "      <td>0</td>\n",
       "      <td>0</td>\n",
       "      <td>0</td>\n",
       "      <td>0</td>\n",
       "      <td>1</td>\n",
       "      <td>0</td>\n",
       "      <td>0</td>\n",
       "      <td>0</td>\n",
       "    </tr>\n",
       "    <tr>\n",
       "      <th>143</th>\n",
       "      <td>0</td>\n",
       "      <td>0</td>\n",
       "      <td>0</td>\n",
       "      <td>1</td>\n",
       "      <td>0</td>\n",
       "      <td>1</td>\n",
       "      <td>1</td>\n",
       "      <td>0</td>\n",
       "      <td>0</td>\n",
       "      <td>0</td>\n",
       "      <td>...</td>\n",
       "      <td>0</td>\n",
       "      <td>0</td>\n",
       "      <td>0</td>\n",
       "      <td>0</td>\n",
       "      <td>0</td>\n",
       "      <td>0</td>\n",
       "      <td>0</td>\n",
       "      <td>0</td>\n",
       "      <td>0</td>\n",
       "      <td>0</td>\n",
       "    </tr>\n",
       "  </tbody>\n",
       "</table>\n",
       "<p>5 rows × 51 columns</p>\n",
       "</div>"
      ],
      "text/plain": [
       "     24  151  238  239  143  142  50  48  246  68 ...   233  163  229  141  \\\n",
       "24    0    1    0    0    0    0   0   0    0   0 ...     0    0    0    0   \n",
       "151   1    0    1    0    0    0   0   0    0   0 ...     0    0    0    0   \n",
       "238   0    1    0    1    0    0   0   0    0   0 ...     0    0    0    0   \n",
       "239   0    0    1    0    1    1   0   0    0   0 ...     0    0    0    0   \n",
       "143   0    0    0    1    0    1   1   0    0   0 ...     0    0    0    0   \n",
       "\n",
       "     140  237  43  236  263  262  \n",
       "24     0    0   1    0    0    0  \n",
       "151    0    0   1    0    0    0  \n",
       "238    0    0   1    0    0    0  \n",
       "239    0    0   1    0    0    0  \n",
       "143    0    0   0    0    0    0  \n",
       "\n",
       "[5 rows x 51 columns]"
      ]
     },
     "metadata": {},
     "output_type": "display_data"
    }
   ],
   "source": [
    "adj = pd.read_csv('adjacency_2017.csv', index_col=0)\n",
    "display(adj.head())\n",
    "whitelist = adj.columns.tolist()"
   ]
  },
  {
   "cell_type": "code",
   "execution_count": 4,
   "metadata": {},
   "outputs": [
    {
     "data": {
      "text/plain": [
       "{24: [151, 43],\n",
       " 151: [24, 238, 43],\n",
       " 238: [151, 239, 43],\n",
       " 239: [238, 143, 142, 43],\n",
       " 143: [239, 142, 50],\n",
       " 142: [239, 143, 48, 163, 43],\n",
       " 50: [143, 48, 246],\n",
       " 48: [142, 50, 246, 68, 100, 230, 163],\n",
       " 246: [50, 48, 68, 158],\n",
       " 68: [48, 246, 158, 249, 90, 186, 100],\n",
       " 158: [246, 68, 249, 125],\n",
       " 249: [68, 158, 125, 113, 114, 90],\n",
       " 125: [158, 249, 211, 231, 114],\n",
       " 211: [125, 231, 144, 114],\n",
       " 231: [125, 211, 13, 261, 209, 45, 144],\n",
       " 13: [231, 261, 12],\n",
       " 261: [231, 13, 12, 88, 87, 209],\n",
       " 12: [13, 261, 88],\n",
       " 88: [261, 12, 87],\n",
       " 87: [261, 88, 209],\n",
       " 209: [231, 261, 87, 45],\n",
       " 45: [231, 209, 148, 144, 232],\n",
       " 148: [45, 144, 232, 79],\n",
       " 144: [211, 231, 45, 148, 114],\n",
       " 232: [45, 148, 4],\n",
       " 4: [232, 79, 224],\n",
       " 79: [148, 4, 113, 114, 107, 224],\n",
       " 113: [249, 79, 114, 234],\n",
       " 114: [249, 125, 211, 144, 79, 113],\n",
       " 90: [68, 249, 234, 186],\n",
       " 234: [113, 90, 107, 164, 186],\n",
       " 107: [79, 234, 224, 137, 170],\n",
       " 224: [4, 79, 107, 137],\n",
       " 137: [107, 224, 170, 233],\n",
       " 170: [107, 137, 164, 161, 162, 233],\n",
       " 164: [234, 170, 186, 100, 161],\n",
       " 186: [68, 90, 234, 164, 100],\n",
       " 100: [48, 68, 164, 186, 230],\n",
       " 230: [48, 100, 161, 163],\n",
       " 161: [170, 164, 230, 162, 163],\n",
       " 162: [170, 161, 233, 163, 229, 237],\n",
       " 233: [137, 170, 162, 229],\n",
       " 163: [142, 48, 230, 161, 162, 237, 43],\n",
       " 229: [162, 233, 141, 140],\n",
       " 141: [229, 140, 237, 236, 263],\n",
       " 140: [229, 141, 262],\n",
       " 237: [162, 163, 141, 43, 236],\n",
       " 43: [24, 151, 238, 239, 142, 163, 237, 236],\n",
       " 236: [141, 237, 43, 263],\n",
       " 263: [141, 236, 262],\n",
       " 262: [140, 263]}"
      ]
     },
     "execution_count": 4,
     "metadata": {},
     "output_type": "execute_result"
    }
   ],
   "source": [
    "adj_dict = {int(x):[int(y) for z,y in zip(adj[x], whitelist) if z == 1] for x in whitelist}\n",
    "\n",
    "# include self in adjacency list\n",
    "# adj_dict = {x:y+[x] for x,y in adj_dict.items()}\n",
    "\n",
    "adj_dict"
   ]
  },
  {
   "cell_type": "code",
   "execution_count": null,
   "metadata": {
    "collapsed": true
   },
   "outputs": [],
   "source": [
    "first_grouping_for_neighbors_2017"
   ]
  },
  {
   "cell_type": "code",
   "execution_count": null,
   "metadata": {
    "collapsed": true
   },
   "outputs": [],
   "source": [
    "to_iter_over = list(zip(first_grouping_for_neighbors_2017['time_block'], first_grouping_for_neighbors_2017['PULocationID'], first_grouping_for_neighbors_2017['DOLocationID']))"
   ]
  },
  {
   "cell_type": "code",
   "execution_count": null,
   "metadata": {
    "collapsed": true
   },
   "outputs": [],
   "source": [
    "first_grouping_for_neighbors_2017.dtypes"
   ]
  },
  {
   "cell_type": "code",
   "execution_count": null,
   "metadata": {
    "collapsed": true
   },
   "outputs": [],
   "source": [
    "to_iter_over[0]"
   ]
  },
  {
   "cell_type": "code",
   "execution_count": null,
   "metadata": {
    "collapsed": true
   },
   "outputs": [],
   "source": [
    "import numpy as np\n",
    "matching_groups = [adj_dict.get(pick_zip) is not None and drop_zip in adj_dict.get(pick_zip) for __,pick_zip,drop_zip in to_iter_over]\n",
    "\n",
    "# print the number of adjacencies present\n",
    "np.sum(matching_groups)"
   ]
  },
  {
   "cell_type": "code",
   "execution_count": null,
   "metadata": {
    "collapsed": true
   },
   "outputs": [],
   "source": [
    "adj_grouping_for_2017 = first_grouping_for_neighbors_2017[matching_groups]#.to_csv('')"
   ]
  },
  {
   "cell_type": "code",
   "execution_count": null,
   "metadata": {
    "collapsed": true
   },
   "outputs": [],
   "source": [
    "___, month, day_of_month, hour = zip(*adj_grouping_for_2017['time_block'].apply(lambda x: x.replace(' ','/').split('/')))\n",
    "#adj_grouping_for_2017['time_block'].head().apply(lambda x: x.replace(' ','/').split('/'))"
   ]
  },
  {
   "cell_type": "code",
   "execution_count": null,
   "metadata": {
    "collapsed": true
   },
   "outputs": [],
   "source": [
    "month = list(month)\n",
    "hour = list(hour)\n",
    "day_of_month = list(day_of_month)\n",
    "\n",
    "display(month[0:5])\n",
    "display(hour[0:5])\n",
    "display(day_of_month[0:5])"
   ]
  },
  {
   "cell_type": "code",
   "execution_count": null,
   "metadata": {
    "collapsed": true
   },
   "outputs": [],
   "source": [
    "adj_grouping_for_2017['month'] = month\n",
    "adj_grouping_for_2017['hour'] = hour\n",
    "adj_grouping_for_2017['day_of_month'] = day_of_month"
   ]
  },
  {
   "cell_type": "code",
   "execution_count": null,
   "metadata": {
    "collapsed": true
   },
   "outputs": [],
   "source": [
    "adj_grouping_for_2017.head()"
   ]
  },
  {
   "cell_type": "code",
   "execution_count": null,
   "metadata": {
    "collapsed": true
   },
   "outputs": [],
   "source": [
    "from datetime import datetime as dt\n",
    "\n",
    "dow = adj_grouping_for_2017['time_block'].apply(lambda x: dt.strptime(x, '%Y/%m/%d %H').weekday())\n",
    "#display(adj_grouping_for_2017.head()['time_block'].apply(lambda x: dt.strptime(x, '%Y/%m/%d %H')))"
   ]
  },
  {
   "cell_type": "code",
   "execution_count": null,
   "metadata": {
    "collapsed": true
   },
   "outputs": [],
   "source": [
    "np.max(dow)"
   ]
  },
  {
   "cell_type": "code",
   "execution_count": null,
   "metadata": {
    "collapsed": true
   },
   "outputs": [],
   "source": [
    "adj_grouping_for_2017['day_of_week'] = dow"
   ]
  },
  {
   "cell_type": "code",
   "execution_count": null,
   "metadata": {
    "collapsed": true
   },
   "outputs": [],
   "source": [
    "pu_do = adj_grouping_for_2017['PULocationID'].apply(lambda x: str(x)+'_') + adj_grouping_for_2017['DOLocationID'].apply(lambda x: str(x))\n",
    "#adj_grouping_for_2017['PU_DO'] = "
   ]
  },
  {
   "cell_type": "code",
   "execution_count": null,
   "metadata": {
    "collapsed": true
   },
   "outputs": [],
   "source": [
    "adj_grouping_for_2017['PU_DO'] = pu_do"
   ]
  },
  {
   "cell_type": "code",
   "execution_count": null,
   "metadata": {
    "collapsed": true
   },
   "outputs": [],
   "source": [
    "adj_grouping_for_2017.head()"
   ]
  },
  {
   "cell_type": "code",
   "execution_count": null,
   "metadata": {
    "collapsed": true
   },
   "outputs": [],
   "source": [
    "year_mask = adj_grouping_for_2017['time_block'].apply(lambda x: '2017' in x)\n",
    "year_mask"
   ]
  },
  {
   "cell_type": "code",
   "execution_count": null,
   "metadata": {
    "collapsed": true
   },
   "outputs": [],
   "source": [
    "adj_grouping_for_2017 = adj_grouping_for_2017[year_mask]\n"
   ]
  },
  {
   "cell_type": "code",
   "execution_count": null,
   "metadata": {
    "collapsed": true
   },
   "outputs": [],
   "source": [
    "adj_grouping_for_2017.to_csv('neighbors_data_2017_fixed.csv', encoding='utf-8')"
   ]
  },
  {
   "cell_type": "code",
   "execution_count": null,
   "metadata": {
    "collapsed": true
   },
   "outputs": [],
   "source": []
  }
 ],
 "metadata": {
  "kernelspec": {
   "display_name": "Python 3",
   "language": "python",
   "name": "python3"
  },
  "language_info": {
   "codemirror_mode": {
    "name": "ipython",
    "version": 3
   },
   "file_extension": ".py",
   "mimetype": "text/x-python",
   "name": "python",
   "nbconvert_exporter": "python",
   "pygments_lexer": "ipython3",
   "version": "3.6.0"
  }
 },
 "nbformat": 4,
 "nbformat_minor": 2
}
